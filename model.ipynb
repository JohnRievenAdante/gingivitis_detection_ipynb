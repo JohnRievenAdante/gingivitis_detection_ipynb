{
 "cells": [
  {
   "cell_type": "code",
   "execution_count": 1,
   "metadata": {},
   "outputs": [],
   "source": [
    "import os\n",
    "import cv2\n",
    "\n",
    "import matplotlib as mpl\n",
    "import matplotlib.pyplot as plt\n",
    "from IPython.display import display\n",
    "\n",
    "import pandas as pd\n",
    "import numpy as np\n",
    "\n",
    "from PIL import Image\n",
    "\n",
    "from skimage.feature import hog\n",
    "from skimage import color\n",
    "\n",
    "from sklearn.model_selection import train_test_split\n",
    "from sklearn.metrics import accuracy_score\n",
    "from sklearn.preprocessing import StandardScaler\n",
    "from sklearn.decomposition import PCA\n",
    "from sklearn.svm import SVC\n",
    "\n",
    "from sklearn.metrics import roc_curve, auc"
   ]
  },
  {
   "cell_type": "code",
   "execution_count": 2,
   "metadata": {},
   "outputs": [
    {
     "data": {
      "text/html": [
       "<div>\n",
       "<style scoped>\n",
       "    .dataframe tbody tr th:only-of-type {\n",
       "        vertical-align: middle;\n",
       "    }\n",
       "\n",
       "    .dataframe tbody tr th {\n",
       "        vertical-align: top;\n",
       "    }\n",
       "\n",
       "    .dataframe thead th {\n",
       "        text-align: right;\n",
       "    }\n",
       "</style>\n",
       "<table border=\"1\" class=\"dataframe\">\n",
       "  <thead>\n",
       "    <tr style=\"text-align: right;\">\n",
       "      <th></th>\n",
       "      <th>img_file</th>\n",
       "      <th>classification</th>\n",
       "      <th>no_of_contours</th>\n",
       "      <th>processed_img</th>\n",
       "      <th>diagnosis</th>\n",
       "    </tr>\n",
       "    <tr>\n",
       "      <th>id</th>\n",
       "      <th></th>\n",
       "      <th></th>\n",
       "      <th></th>\n",
       "      <th></th>\n",
       "      <th></th>\n",
       "    </tr>\n",
       "  </thead>\n",
       "  <tbody>\n",
       "    <tr>\n",
       "      <th>1</th>\n",
       "      <td>./dataset/train_img/raw_img/intra1.jpg</td>\n",
       "      <td>healthy</td>\n",
       "      <td>2</td>\n",
       "      <td>./dataset/train_img/processed_img/closed_img/i...</td>\n",
       "      <td>0</td>\n",
       "    </tr>\n",
       "    <tr>\n",
       "      <th>2</th>\n",
       "      <td>./dataset/train_img/raw_img/intra2.jpg</td>\n",
       "      <td>gingivitis</td>\n",
       "      <td>5</td>\n",
       "      <td>./dataset/train_img/processed_img/closed_img/i...</td>\n",
       "      <td>1</td>\n",
       "    </tr>\n",
       "    <tr>\n",
       "      <th>3</th>\n",
       "      <td>./dataset/train_img/raw_img/intra3.jpg</td>\n",
       "      <td>healthy</td>\n",
       "      <td>2</td>\n",
       "      <td>./dataset/train_img/processed_img/closed_img/i...</td>\n",
       "      <td>0</td>\n",
       "    </tr>\n",
       "    <tr>\n",
       "      <th>4</th>\n",
       "      <td>./dataset/train_img/raw_img/intra4.jpg</td>\n",
       "      <td>healthy</td>\n",
       "      <td>0</td>\n",
       "      <td>./dataset/train_img/processed_img/closed_img/i...</td>\n",
       "      <td>0</td>\n",
       "    </tr>\n",
       "    <tr>\n",
       "      <th>5</th>\n",
       "      <td>./dataset/train_img/raw_img/intra5.jpg</td>\n",
       "      <td>healthy</td>\n",
       "      <td>0</td>\n",
       "      <td>./dataset/train_img/processed_img/closed_img/i...</td>\n",
       "      <td>0</td>\n",
       "    </tr>\n",
       "  </tbody>\n",
       "</table>\n",
       "</div>"
      ],
      "text/plain": [
       "                                  img_file classification  no_of_contours  \\\n",
       "id                                                                          \n",
       "1   ./dataset/train_img/raw_img/intra1.jpg        healthy               2   \n",
       "2   ./dataset/train_img/raw_img/intra2.jpg     gingivitis               5   \n",
       "3   ./dataset/train_img/raw_img/intra3.jpg        healthy               2   \n",
       "4   ./dataset/train_img/raw_img/intra4.jpg        healthy               0   \n",
       "5   ./dataset/train_img/raw_img/intra5.jpg        healthy               0   \n",
       "\n",
       "                                        processed_img  diagnosis  \n",
       "id                                                                \n",
       "1   ./dataset/train_img/processed_img/closed_img/i...          0  \n",
       "2   ./dataset/train_img/processed_img/closed_img/i...          1  \n",
       "3   ./dataset/train_img/processed_img/closed_img/i...          0  \n",
       "4   ./dataset/train_img/processed_img/closed_img/i...          0  \n",
       "5   ./dataset/train_img/processed_img/closed_img/i...          0  "
      ]
     },
     "execution_count": 2,
     "metadata": {},
     "output_type": "execute_result"
    }
   ],
   "source": [
    "labels = pd.read_csv('./dataset/dataset.csv', index_col=0)\n",
    "labels.head()"
   ]
  },
  {
   "cell_type": "code",
   "execution_count": 3,
   "metadata": {},
   "outputs": [],
   "source": [
    "def get_processedimg(row_id, root=\"./dataset/train_img/processed_img/noise_reduced_img\"):\n",
    "\n",
    "    filename = \"intra{}.jpg\".format(row_id)\n",
    "    file_path = os.path.join(root, filename)\n",
    "    img = Image.open(file_path)\n",
    "    return np.array(img)\n",
    "\n",
    "def get_img(row_id, root=\"./dataset/train_img/raw_img/\"):\n",
    "\n",
    "    filename = \"intra{}.jpg\".format(row_id)\n",
    "    file_path = os.path.join(root, filename)\n",
    "    img = Image.open(file_path)\n",
    "    return np.array(img)"
   ]
  },
  {
   "cell_type": "code",
   "execution_count": 4,
   "metadata": {},
   "outputs": [
    {
     "data": {
      "image/png": "[encoded data removed]",
      "text/plain": [
       "<Figure size 432x288 with 1 Axes>"
      ]
     },
     "metadata": {
      "needs_background": "light"
     },
     "output_type": "display_data"
    }
   ],
   "source": [
    "# subset the dataframe to just healthy (diagnosis is 0.0) get the value of the sixth item in the index\n",
    "healthy_row = labels[labels.diagnosis == 0.0].index[5]\n",
    "\n",
    "# show the processed image of an healthy gum\n",
    "plt.imshow(get_processedimg(healthy_row))\n",
    "plt.show()"
   ]
  },
  {
   "cell_type": "code",
   "execution_count": 5,
   "metadata": {},
   "outputs": [
    {
     "data": {
      "image/png": "[encoded data removed]",
      "text/plain": [
       "<Figure size 432x288 with 1 Axes>"
      ]
     },
     "metadata": {
      "needs_background": "light"
     },
     "output_type": "display_data"
    }
   ],
   "source": [
    "# subset the dataframe to just gingivitis (diagnosis is 1.0) get the value of the sixth item in the index\n",
    "gingivitis_row = labels[labels.diagnosis == 1.0].index[5]\n",
    "\n",
    "# show the processed image of an infected gum/gingivitis\n",
    "plt.imshow(get_processedimg(gingivitis_row))\n",
    "plt.show()"
   ]
  },
  {
   "cell_type": "code",
   "execution_count": 6,
   "metadata": {},
   "outputs": [
    {
     "name": "stdout",
     "output_type": "stream",
     "text": [
      "Color gingivitis image has shape:  [[0 0 0 ... 0 0 0]\n",
      " [0 0 0 ... 0 0 0]\n",
      " [0 0 0 ... 0 0 0]\n",
      " ...\n",
      " [0 0 0 ... 0 0 0]\n",
      " [0 0 0 ... 0 0 0]\n",
      " [0 0 0 ... 0 0 0]]\n"
     ]
    },
    {
     "data": {
      "image/png": "[encoded data removed]",
      "text/plain": [
       "<Figure size 432x288 with 1 Axes>"
      ]
     },
     "metadata": {
      "needs_background": "light"
     },
     "output_type": "display_data"
    }
   ],
   "source": [
    "gingi = get_processedimg(gingivitis_row)\n",
    "\n",
    "print('Color gingivitis image has shape: ', gingi)\n",
    "\n",
    "\n",
    "plt.imshow(gingi, cmap=mpl.cm.gray)\n",
    "plt.show()"
   ]
  },
  {
   "cell_type": "code",
   "execution_count": 7,
   "metadata": {},
   "outputs": [
    {
     "name": "stdout",
     "output_type": "stream",
     "text": [
      "Greyscale gingivitis image has shape:  [[0 0 0 ... 0 0 0]\n",
      " [0 0 0 ... 0 0 0]\n",
      " [0 0 0 ... 0 0 0]\n",
      " ...\n",
      " [0 0 0 ... 0 0 0]\n",
      " [0 0 0 ... 0 0 0]\n",
      " [0 0 0 ... 0 0 0]]\n"
     ]
    },
    {
     "data": {
      "image/png": "[encoded data removed]",
      "text/plain": [
       "<Figure size 432x288 with 1 Axes>"
      ]
     },
     "metadata": {
      "needs_background": "light"
     },
     "output_type": "display_data"
    }
   ],
   "source": [
    "print('Greyscale gingivitis image has shape: ', gingi)\n",
    "\n",
    "hog_features, hog_image = hog(gingi,\n",
    "                              visualize=True,\n",
    "                              block_norm='L2-Hys',\n",
    "                              pixels_per_cell=(16, 16))\n",
    "\n",
    "plt.imshow(hog_image, cmap=mpl.cm.gray)\n",
    "plt.show()"
   ]
  },
  {
   "cell_type": "code",
   "execution_count": 8,
   "metadata": {},
   "outputs": [
    {
     "name": "stdout",
     "output_type": "stream",
     "text": [
      "[0 0 0 ... 0 0 0]\n"
     ]
    }
   ],
   "source": [
    "def create_features(img):\n",
    "    # flatten three channel color image\n",
    "    color_features = img.flatten()\n",
    "    # get HOG features from greyscale image\n",
    "    hog_features = hog(img, block_norm='L2-Hys', pixels_per_cell=(16, 16))\n",
    "    # combine color and hog features into a single array\n",
    "    flat_features = np.hstack(color_features)\n",
    "    return flat_features\n",
    "\n",
    "gingi_features = create_features(gingi)\n",
    "\n",
    "print(gingi_features)"
   ]
  },
  {
   "cell_type": "code",
   "execution_count": 9,
   "metadata": {},
   "outputs": [],
   "source": [
    "def create_feature_matrix(label_dataframe):\n",
    "    features_list = []\n",
    "    \n",
    "    for img_id in label_dataframe.index:\n",
    "        # load image\n",
    "        img = get_processedimg(img_id)\n",
    "        # get features for image\n",
    "        image_features = create_features(img)\n",
    "        features_list.append(image_features)\n",
    "        \n",
    "    # convert list of arrays into a matrix\n",
    "    feature_matrix = np.array(features_list)\n",
    "    return feature_matrix\n",
    "\n",
    "# run create_feature_matrix on our dataframe of images\n",
    "feature_matrix = create_feature_matrix(labels)"
   ]
  },
  {
   "cell_type": "code",
   "execution_count": 10,
   "metadata": {},
   "outputs": [
    {
     "name": "stdout",
     "output_type": "stream",
     "text": [
      "Feature matrix shape is:  (417, 65536)\n",
      "PCA matrix shape is:  (417, 65536)\n"
     ]
    }
   ],
   "source": [
    "# get shape of feature matrix\n",
    "print('Feature matrix shape is: ', feature_matrix.shape)\n",
    "\n",
    "# define standard scaler\n",
    "ss = StandardScaler()\n",
    "# run this on our feature matrix\n",
    "bees_stand = ss.fit_transform(feature_matrix)\n",
    "\n",
    "pca = PCA(n_components=500)\n",
    "# use fit_transform to run PCA on our standardized matrix\n",
    "gum_pca = ss.fit_transform(bees_stand)\n",
    "# look at new shape\n",
    "print('PCA matrix shape is: ', gum_pca.shape)"
   ]
  },
  {
   "cell_type": "code",
   "execution_count": 11,
   "metadata": {},
   "outputs": [
    {
     "data": {
      "text/plain": [
       "1    179\n",
       "0    112\n",
       "dtype: int64"
      ]
     },
     "execution_count": 11,
     "metadata": {},
     "output_type": "execute_result"
    }
   ],
   "source": [
    "X = pd.DataFrame(gum_pca)\n",
    "y = pd.Series(labels.diagnosis.values)\n",
    "X_train, X_test, y_train, y_test = train_test_split(X,\n",
    "                                                    y,\n",
    "                                                    test_size=.3,\n",
    "                                                    random_state=1234123)\n",
    "\n",
    "# look at the distrubution of labels in the train set\n",
    "pd.Series(y_train).value_counts()"
   ]
  },
  {
   "cell_type": "code",
   "execution_count": 12,
   "metadata": {},
   "outputs": [
    {
     "data": {
      "text/plain": [
       "SVC(C=1.0, break_ties=False, cache_size=200, class_weight=None, coef0=0.0,\n",
       "    decision_function_shape='ovr', degree=3, gamma='scale', kernel='linear',\n",
       "    max_iter=-1, probability=True, random_state=42, shrinking=True, tol=0.001,\n",
       "    verbose=False)"
      ]
     },
     "execution_count": 12,
     "metadata": {},
     "output_type": "execute_result"
    }
   ],
   "source": [
    "# define support vector classifier\n",
    "svm = SVC(kernel='linear', probability=True, random_state=42)\n",
    "\n",
    "# fit model\n",
    "svm.fit(X_train, y_train)"
   ]
  },
  {
   "cell_type": "code",
   "execution_count": 13,
   "metadata": {},
   "outputs": [
    {
     "name": "stdout",
     "output_type": "stream",
     "text": [
      "Model accuracy is:  0.5714285714285714\n"
     ]
    }
   ],
   "source": [
    "# generate predictions\n",
    "y_pred = svm.predict(X_test)\n",
    "\n",
    "# calculate accuracy\n",
    "accuracy = accuracy_score(y_test, y_pred)\n",
    "print('Model accuracy is: ', accuracy)"
   ]
  },
  {
   "cell_type": "code",
   "execution_count": 59,
   "metadata": {},
   "outputs": [
    {
     "data": {
      "text/plain": [
       "['svm_model.pkl']"
      ]
     },
     "execution_count": 59,
     "metadata": {},
     "output_type": "execute_result"
    }
   ],
   "source": [
    "from sklearn.externals import joblib\n",
    "joblib.dump(svm, 'svm_model.pkl')"
   ]
  },
  {
   "cell_type": "code",
   "execution_count": 42,
   "metadata": {},
   "outputs": [
    {
     "name": "stdout",
     "output_type": "stream",
     "text": [
      "Epoch 1/10\n",
      "10/10 [==============================] - 1s 12ms/step - loss: 0.8503 - accuracy: 0.5292\n",
      "Epoch 2/10\n",
      "10/10 [==============================] - 0s 11ms/step - loss: 0.8136 - accuracy: 0.5704\n",
      "Epoch 3/10\n",
      "10/10 [==============================] - 0s 11ms/step - loss: 0.8031 - accuracy: 0.5808\n",
      "Epoch 4/10\n",
      "10/10 [==============================] - 0s 13ms/step - loss: 0.7853 - accuracy: 0.6014\n",
      "Epoch 5/10\n",
      "10/10 [==============================] - 0s 13ms/step - loss: 0.7717 - accuracy: 0.6186\n",
      "Epoch 6/10\n",
      "10/10 [==============================] - 0s 13ms/step - loss: 0.7684 - accuracy: 0.6186\n",
      "Epoch 7/10\n",
      "10/10 [==============================] - 0s 11ms/step - loss: 0.7677 - accuracy: 0.6186\n",
      "Epoch 8/10\n",
      "10/10 [==============================] - 0s 10ms/step - loss: 0.7617 - accuracy: 0.6254\n",
      "Epoch 9/10\n",
      "10/10 [==============================] - 0s 10ms/step - loss: 0.7598 - accuracy: 0.6254\n",
      "Epoch 10/10\n",
      "10/10 [==============================] - 0s 8ms/step - loss: 0.7595 - accuracy: 0.6254\n",
      "1/1 [==============================] - 0s 46ms/step\n",
      "[[0.]]  class:  [0]\n",
      "[0.7588960528373718, 0.6254295706748962]\n",
      "accuracy: 62.54%\n"
     ]
    }
   ],
   "source": [
    "import numpy as np\n",
    "from keras.models import Sequential\n",
    "from keras.layers import Dense\n",
    "from keras.optimizers import SGD\n",
    "import tensorflow as tf\n",
    "\n",
    "model = tf.keras.models.Sequential([\n",
    "    tf.keras.layers.Dense(1, input_dim=X.shape[1], activation='sigmoid',\n",
    "                          kernel_constraint=tf.keras.constraints.UnitNorm())\n",
    "])\n",
    "\n",
    "# Compile the model with hinge loss and no metrics\n",
    "model.compile(loss='hinge', optimizer='adam', metrics=['accuracy'])\n",
    "\n",
    "# Fit the model to the training data\n",
    "model.fit(X_train, y_train, epochs=10, batch_size=32)\n",
    "\n",
    "img2 = cv2.imread(\"./dataset/train_img/raw_img/intragingi.jpg\")\n",
    "img3 = cv2.resize(img2, (256,256))\n",
    "ORANGE_MIN = np.array([5, 145, 94],np.uint8)\n",
    "ORANGE_MAX = np.array([8, 255, 255],np.uint8)\n",
    "img=cv2.rotate(img3, cv2.ROTATE_90_COUNTERCLOCKWISE)\n",
    "hsv_img = cv2.cvtColor(img,cv2.COLOR_BGR2HSV)\n",
    "\n",
    "\n",
    "\n",
    "frame_threshed = cv2.inRange(hsv_img, ORANGE_MIN, ORANGE_MAX)\n",
    "\n",
    "\n",
    "\n",
    "kernel = np.ones((10, 10), np.uint8)\n",
    "closing = cv2.morphologyEx(frame_threshed, cv2.MORPH_CLOSE, kernel, iterations=1)\n",
    "opening = cv2.morphologyEx(closing, cv2.MORPH_OPEN, kernel)\n",
    "color_features = opening.flatten()\n",
    "flat_features = np.hstack(color_features)\n",
    "ok=flat_features.reshape(1, -1)\n",
    "\n",
    "# Define the model architecture\n",
    "#model = Sequential()\n",
    "#model.add(Dense(1, input_dim=65536, activation='sigmoid'))\n",
    "\n",
    "# Compile the model\n",
    "#sgd = SGD(lr=0.01)\n",
    "#model.compile(loss='binary_crossentropy', optimizer=sgd, metrics=['accuracy'])\n",
    "\n",
    "# Train the model\n",
    "#model.fit(X_train, y_train, epochs=100, batch_size=32, verbose=0)\n",
    "#y_pred = model.predict(X_test)\n",
    "\n",
    "predictions = model.predict(ok)\n",
    "# Get the class label with the highest probability\n",
    "predicted_classes = np.argmax(predictions, axis=1)\n",
    "print(predictions,' class: ', predicted_classes)\n",
    "\n",
    "scores = model.evaluate(X_train, y_train, verbose=0)\n",
    "print(scores)\n",
    "print(\"%s: %.2f%%\" % (model.metrics_names[1], scores[1]*100))\n",
    "\n",
    "# Save the model to disk\n",
    "model.save('svm_model1.h5')"
   ]
  },
  {
   "cell_type": "code",
   "execution_count": 31,
   "metadata": {},
   "outputs": [
    {
     "name": "stdout",
     "output_type": "stream",
     "text": [
      "Validation loss: 9.041001319885254\n",
      "Validation accuracy: 0.420634925365448\n"
     ]
    }
   ],
   "source": [
    "score = model.evaluate(X_test, y_test, verbose=0)\n",
    "print('Validation loss:', score[0])\n",
    "print('Validation accuracy:', score[1])"
   ]
  },
  {
   "cell_type": "code",
   "execution_count": 22,
   "metadata": {},
   "outputs": [
    {
     "name": "stdout",
     "output_type": "stream",
     "text": [
      "INFO:tensorflow:Assets written to: C:\\Users\\Ben\\AppData\\Local\\Temp\\tmpe64_7zvi\\assets\n"
     ]
    }
   ],
   "source": [
    "import tensorflow as tf\n",
    "from keras.models import load_model\n",
    "model = load_model('svm_model.h5')\n",
    "\n",
    "# Convert the model to a TensorFlow Lite model\n",
    "converter = tf.lite.TFLiteConverter.from_keras_model(model)\n",
    "tflite_model = converter.convert()\n",
    "\n",
    "# Save the TensorFlow Lite model to disk\n",
    "with open('svm_model.tflite', 'wb') as f:\n",
    "    f.write(tflite_model)\n",
    "\n"
   ]
  },
  {
   "cell_type": "code",
   "execution_count": 46,
   "metadata": {},
   "outputs": [
    {
     "name": "stdout",
     "output_type": "stream",
     "text": [
      "{'name': 'StatefulPartitionedCall:0', 'index': 4, 'shape': array([1, 1]), 'shape_signature': array([-1,  1]), 'dtype': <class 'numpy.float32'>, 'quantization': (0.0, 0), 'quantization_parameters': {'scales': array([], dtype=float32), 'zero_points': array([], dtype=int32), 'quantized_dimension': 0}, 'sparsity_parameters': {}}\n",
      "[[0. 0. 0. ... 0. 0. 0.]]\n",
      "(1, 1)\n",
      "[0]\n"
     ]
    }
   ],
   "source": [
    "import cv2\n",
    "# Load the TensorFlow Lite model\n",
    "interpreter = tf.lite.Interpreter(model_path='svm_model.tflite')\n",
    "interpreter.allocate_tensors()\n",
    "\n",
    "img2 = cv2.imread(\"./dataset/train_img/raw_img/intra25.jpg\")\n",
    "img3 = cv2.resize(img2, (256,256))\n",
    "ORANGE_MIN = np.array([5, 145, 94],np.uint8)\n",
    "ORANGE_MAX = np.array([8, 255, 255],np.uint8)\n",
    "img=cv2.rotate(img3, cv2.ROTATE_90_COUNTERCLOCKWISE)\n",
    "hsv_img = cv2.cvtColor(img,cv2.COLOR_BGR2HSV)\n",
    "\n",
    "\n",
    "\n",
    "frame_threshed = cv2.inRange(hsv_img, ORANGE_MIN, ORANGE_MAX)\n",
    "\n",
    "\n",
    "\n",
    "kernel = np.ones((10, 10), np.uint8)\n",
    "closing = cv2.morphologyEx(frame_threshed, cv2.MORPH_CLOSE, kernel, iterations=1)\n",
    "opening = cv2.morphologyEx(closing, cv2.MORPH_OPEN, kernel)\n",
    "color_features = opening.flatten()\n",
    "flat_features = np.hstack(color_features)\n",
    "ok=flat_features.reshape(1, -1)\n",
    "\n",
    "# Get the input and output tensors\n",
    "input_details = interpreter.get_input_details()\n",
    "output_details = interpreter.get_output_details()\n",
    "print(output_details[0])\n",
    "print(ok.astype(np.float32))\n",
    "# Define a new input for prediction\n",
    "\n",
    "\n",
    "# Set the input tensor\n",
    "interpreter.set_tensor(input_details[0]['index'], ok.astype(np.float32))\n",
    "\n",
    "# Run the inference\n",
    "interpreter.invoke()\n",
    "\n",
    "# Get the output tensor and print the prediction\n",
    "output_data = interpreter.get_tensor(output_details[0]['index'])\n",
    "print(output_data.shape)\n",
    "\n",
    "# Print the predicted classes\n",
    "predicted_classes = np.argmax(output_data, axis=1)\n",
    "print(predicted_classes)"
   ]
  },
  {
   "cell_type": "code",
   "execution_count": 14,
   "metadata": {},
   "outputs": [
    {
     "data": {
      "text/plain": [
       "Text(0.5, 0, 'False Positive Rate')"
      ]
     },
     "execution_count": 14,
     "metadata": {},
     "output_type": "execute_result"
    },
    {
     "data": {
      "image/png": "[encoded data removed]",
      "text/plain": [
       "<Figure size 432x288 with 1 Axes>"
      ]
     },
     "metadata": {
      "needs_background": "light"
     },
     "output_type": "display_data"
    }
   ],
   "source": [
    "# predict probabilities for X_test using predict_proba\n",
    "probabilities = svm.predict_proba(X_test)\n",
    "\n",
    "# select the probabilities for label 1.0\n",
    "y_proba = probabilities[:, 1]\n",
    "\n",
    "# calculate false positive rate and true positive rate at different thresholds\n",
    "false_positive_rate, true_positive_rate, thresholds = roc_curve(y_test, y_proba, pos_label=1)\n",
    "\n",
    "# calculate AUC\n",
    "roc_auc = auc(false_positive_rate, true_positive_rate)\n",
    "\n",
    "plt.title('Receiver Operating Characteristic')\n",
    "# plot the false positive rate on the x axis and the true positive rate on the y axis\n",
    "roc_plot = plt.plot(false_positive_rate,\n",
    "                    true_positive_rate,\n",
    "                    label='AUC = {:0.2f}'.format(roc_auc))\n",
    "\n",
    "plt.legend(loc=0)\n",
    "plt.plot([0,1], [0,1], ls='--')\n",
    "plt.ylabel('True Positive Rate')\n",
    "plt.xlabel('False Positive Rate')"
   ]
  },
  {
   "cell_type": "code",
   "execution_count": null,
   "metadata": {},
   "outputs": [],
   "source": []
  },
  {
   "cell_type": "code",
   "execution_count": null,
   "metadata": {},
   "outputs": [],
   "source": []
  }
 ],
 "metadata": {
  "kernelspec": {
   "display_name": "Python 3 (ipykernel)",
   "language": "python",
   "name": "python3"
  },
  "language_info": {
   "codemirror_mode": {
    "name": "ipython",
    "version": 3
   },
   "file_extension": ".py",
   "mimetype": "text/x-python",
   "name": "python",
   "nbconvert_exporter": "python",
   "pygments_lexer": "ipython3",
   "version": "3.9.13"
  },
  "vscode": {
   "interpreter": {
    "hash": "cb4361252e18a8a38bcf56925350a1d624ffc42d4be43773c4396c03219dd5f7"
   }
  }
 },
 "nbformat": 4,
 "nbformat_minor": 2
}
