{
 "cells": [
  {
   "cell_type": "code",
   "execution_count": 1,
   "metadata": {},
   "outputs": [],
   "source": [
    "import os\n",
    "import cv2\n",
    "\n",
    "import matplotlib as mpl\n",
    "import matplotlib.pyplot as plt\n",
    "from IPython.display import display\n",
    "\n",
    "import pandas as pd\n",
    "import numpy as np\n",
    "\n",
    "from PIL import Image\n",
    "\n",
    "from skimage.feature import hog\n",
    "from skimage import color\n",
    "\n",
    "from sklearn.model_selection import train_test_split\n",
    "from sklearn.metrics import accuracy_score\n",
    "from sklearn.preprocessing import StandardScaler\n",
    "from sklearn.decomposition import PCA\n",
    "from sklearn.svm import SVC\n",
    "\n",
    "from sklearn.metrics import roc_curve, auc"
   ]
  },
  {
   "cell_type": "code",
   "execution_count": 2,
   "metadata": {},
   "outputs": [
    {
     "data": {
      "text/html": [
       "<div>\n",
       "<style scoped>\n",
       "    .dataframe tbody tr th:only-of-type {\n",
       "        vertical-align: middle;\n",
       "    }\n",
       "\n",
       "    .dataframe tbody tr th {\n",
       "        vertical-align: top;\n",
       "    }\n",
       "\n",
       "    .dataframe thead th {\n",
       "        text-align: right;\n",
       "    }\n",
       "</style>\n",
       "<table border=\"1\" class=\"dataframe\">\n",
       "  <thead>\n",
       "    <tr style=\"text-align: right;\">\n",
       "      <th></th>\n",
       "      <th>img_file</th>\n",
       "      <th>classification</th>\n",
       "      <th>no_of_contours</th>\n",
       "      <th>processed_img</th>\n",
       "      <th>diagnosis</th>\n",
       "    </tr>\n",
       "    <tr>\n",
       "      <th>id</th>\n",
       "      <th></th>\n",
       "      <th></th>\n",
       "      <th></th>\n",
       "      <th></th>\n",
       "      <th></th>\n",
       "    </tr>\n",
       "  </thead>\n",
       "  <tbody>\n",
       "    <tr>\n",
       "      <th>1</th>\n",
       "      <td>./dataset/train_img/raw_img/intra1.jpg</td>\n",
       "      <td>healthy</td>\n",
       "      <td>2</td>\n",
       "      <td>./dataset/train_img/processed_img/closed_img/i...</td>\n",
       "      <td>0</td>\n",
       "    </tr>\n",
       "    <tr>\n",
       "      <th>2</th>\n",
       "      <td>./dataset/train_img/raw_img/intra2.jpg</td>\n",
       "      <td>gingivitis</td>\n",
       "      <td>5</td>\n",
       "      <td>./dataset/train_img/processed_img/closed_img/i...</td>\n",
       "      <td>1</td>\n",
       "    </tr>\n",
       "    <tr>\n",
       "      <th>3</th>\n",
       "      <td>./dataset/train_img/raw_img/intra3.jpg</td>\n",
       "      <td>healthy</td>\n",
       "      <td>2</td>\n",
       "      <td>./dataset/train_img/processed_img/closed_img/i...</td>\n",
       "      <td>0</td>\n",
       "    </tr>\n",
       "    <tr>\n",
       "      <th>4</th>\n",
       "      <td>./dataset/train_img/raw_img/intra4.jpg</td>\n",
       "      <td>healthy</td>\n",
       "      <td>0</td>\n",
       "      <td>./dataset/train_img/processed_img/closed_img/i...</td>\n",
       "      <td>0</td>\n",
       "    </tr>\n",
       "    <tr>\n",
       "      <th>5</th>\n",
       "      <td>./dataset/train_img/raw_img/intra5.jpg</td>\n",
       "      <td>healthy</td>\n",
       "      <td>0</td>\n",
       "      <td>./dataset/train_img/processed_img/closed_img/i...</td>\n",
       "      <td>0</td>\n",
       "    </tr>\n",
       "  </tbody>\n",
       "</table>\n",
       "</div>"
      ],
      "text/plain": [
       "                                  img_file classification  no_of_contours  \\\n",
       "id                                                                          \n",
       "1   ./dataset/train_img/raw_img/intra1.jpg        healthy               2   \n",
       "2   ./dataset/train_img/raw_img/intra2.jpg     gingivitis               5   \n",
       "3   ./dataset/train_img/raw_img/intra3.jpg        healthy               2   \n",
       "4   ./dataset/train_img/raw_img/intra4.jpg        healthy               0   \n",
       "5   ./dataset/train_img/raw_img/intra5.jpg        healthy               0   \n",
       "\n",
       "                                        processed_img  diagnosis  \n",
       "id                                                                \n",
       "1   ./dataset/train_img/processed_img/closed_img/i...          0  \n",
       "2   ./dataset/train_img/processed_img/closed_img/i...          1  \n",
       "3   ./dataset/train_img/processed_img/closed_img/i...          0  \n",
       "4   ./dataset/train_img/processed_img/closed_img/i...          0  \n",
       "5   ./dataset/train_img/processed_img/closed_img/i...          0  "
      ]
     },
     "execution_count": 2,
     "metadata": {},
     "output_type": "execute_result"
    }
   ],
   "source": [
    "labels = pd.read_csv('./dataset/dataset.csv', index_col=0)\n",
    "labels.head()"
   ]
  },
  {
   "cell_type": "code",
   "execution_count": 3,
   "metadata": {},
   "outputs": [],
   "source": [
    "def get_processedimg(row_id, root=\"./dataset/train_img/processed_img/noise_reduced_img\"):\n",
    "\n",
    "    filename = \"intra{}.jpg\".format(row_id)\n",
    "    file_path = os.path.join(root, filename)\n",
    "    img = Image.open(file_path)\n",
    "    return np.array(img)\n",
    "\n",
    "def get_img(row_id, root=\"./dataset/train_img/raw_img/\"):\n",
    "\n",
    "    filename = \"intra{}.jpg\".format(row_id)\n",
    "    file_path = os.path.join(root, filename)\n",
    "    img = Image.open(file_path)\n",
    "    return np.array(img)"
   ]
  },
  {
   "cell_type": "code",
   "execution_count": 4,
   "metadata": {},
   "outputs": [
    {
     "data": {
      "image/png": "[encoded data removed]",
      "text/plain": [
       "<Figure size 432x288 with 1 Axes>"
      ]
     },
     "metadata": {
      "needs_background": "light"
     },
     "output_type": "display_data"
    }
   ],
   "source": [
    "# subset the dataframe to just healthy (diagnosis is 0.0) get the value of the sixth item in the index\n",
    "healthy_row = labels[labels.diagnosis == 0.0].index[5]\n",
    "\n",
    "# show the processed image of an healthy gum\n",
    "plt.imshow(get_processedimg(healthy_row))\n",
    "plt.show()"
   ]
  },
  {
   "cell_type": "code",
   "execution_count": 5,
   "metadata": {},
   "outputs": [
    {
     "data": {
      "image/png": "[encoded data removed]",
      "text/plain": [
       "<Figure size 432x288 with 1 Axes>"
      ]
     },
     "metadata": {
      "needs_background": "light"
     },
     "output_type": "display_data"
    }
   ],
   "source": [
    "# subset the dataframe to just gingivitis (diagnosis is 1.0) get the value of the sixth item in the index\n",
    "gingivitis_row = labels[labels.diagnosis == 1.0].index[5]\n",
    "\n",
    "# show the processed image of an infected gum/gingivitis\n",
    "plt.imshow(get_processedimg(gingivitis_row))\n",
    "plt.show()"
   ]
  },
  {
   "cell_type": "code",
   "execution_count": 6,
   "metadata": {},
   "outputs": [
    {
     "name": "stdout",
     "output_type": "stream",
     "text": [
      "Color gingivitis image has shape:  [[0 0 0 ... 0 0 0]\n",
      " [0 0 0 ... 0 0 0]\n",
      " [0 0 0 ... 0 0 0]\n",
      " ...\n",
      " [0 0 0 ... 0 0 0]\n",
      " [0 0 0 ... 0 0 0]\n",
      " [0 0 0 ... 0 0 0]]\n"
     ]
    },
    {
     "data": {
      "image/png": "[encoded data removed]",
      "text/plain": [
       "<Figure size 432x288 with 1 Axes>"
      ]
     },
     "metadata": {
      "needs_background": "light"
     },
     "output_type": "display_data"
    }
   ],
   "source": [
    "gingi = get_processedimg(gingivitis_row)\n",
    "\n",
    "print('Color gingivitis image has shape: ', gingi)\n",
    "\n",
    "\n",
    "plt.imshow(gingi, cmap=mpl.cm.gray)\n",
    "plt.show()"
   ]
  },
  {
   "cell_type": "code",
   "execution_count": 7,
   "metadata": {},
   "outputs": [
    {
     "name": "stdout",
     "output_type": "stream",
     "text": [
      "Greyscale gingivitis image has shape:  [[0 0 0 ... 0 0 0]\n",
      " [0 0 0 ... 0 0 0]\n",
      " [0 0 0 ... 0 0 0]\n",
      " ...\n",
      " [0 0 0 ... 0 0 0]\n",
      " [0 0 0 ... 0 0 0]\n",
      " [0 0 0 ... 0 0 0]]\n"
     ]
    },
    {
     "data": {
      "image/png": "[encoded data removed]",
      "text/plain": [
       "<Figure size 432x288 with 1 Axes>"
      ]
     },
     "metadata": {
      "needs_background": "light"
     },
     "output_type": "display_data"
    }
   ],
   "source": [
    "print('Greyscale gingivitis image has shape: ', gingi)\n",
    "\n",
    "hog_features, hog_image = hog(gingi,\n",
    "                              visualize=True,\n",
    "                              block_norm='L2-Hys',\n",
    "                              pixels_per_cell=(16, 16))\n",
    "\n",
    "plt.imshow(hog_image, cmap=mpl.cm.gray)\n",
    "plt.show()"
   ]
  },
  {
   "cell_type": "code",
   "execution_count": 8,
   "metadata": {},
   "outputs": [
    {
     "name": "stdout",
     "output_type": "stream",
     "text": [
      "[0 0 0 ... 0 0 0]\n"
     ]
    }
   ],
   "source": [
    "def create_features(img):\n",
    "    # flatten three channel color image\n",
    "    color_features = img.flatten()\n",
    "    # get HOG features from greyscale image\n",
    "    hog_features = hog(img, block_norm='L2-Hys', pixels_per_cell=(16, 16))\n",
    "    # combine color and hog features into a single array\n",
    "    flat_features = np.hstack(color_features)\n",
    "    return flat_features\n",
    "\n",
    "gingi_features = create_features(gingi)\n",
    "\n",
    "print(gingi_features)"
   ]
  },
  {
   "cell_type": "code",
   "execution_count": 9,
   "metadata": {},
   "outputs": [],
   "source": [
    "def create_feature_matrix(label_dataframe):\n",
    "    features_list = []\n",
    "    \n",
    "    for img_id in label_dataframe.index:\n",
    "        # load image\n",
    "        img = get_processedimg(img_id)\n",
    "        # get features for image\n",
    "        image_features = create_features(img)\n",
    "        features_list.append(image_features)\n",
    "        \n",
    "    # convert list of arrays into a matrix\n",
    "    feature_matrix = np.array(features_list)\n",
    "    return feature_matrix\n",
    "\n",
    "# run create_feature_matrix on our dataframe of images\n",
    "feature_matrix = create_feature_matrix(labels)"
   ]
  },
  {
   "cell_type": "code",
   "execution_count": 10,
   "metadata": {},
   "outputs": [
    {
     "name": "stdout",
     "output_type": "stream",
     "text": [
      "Feature matrix shape is:  (417, 65536)\n",
      "PCA matrix shape is:  (417, 65536)\n"
     ]
    }
   ],
   "source": [
    "# get shape of feature matrix\n",
    "print('Feature matrix shape is: ', feature_matrix.shape)\n",
    "\n",
    "# define standard scaler\n",
    "ss = StandardScaler()\n",
    "# run this on our feature matrix\n",
    "bees_stand = ss.fit_transform(feature_matrix)\n",
    "\n",
    "pca = PCA(n_components=500)\n",
    "# use fit_transform to run PCA on our standardized matrix\n",
    "gum_pca = ss.fit_transform(bees_stand)\n",
    "# look at new shape\n",
    "print('PCA matrix shape is: ', gum_pca.shape)"
   ]
  },
  {
   "cell_type": "code",
   "execution_count": 11,
   "metadata": {},
   "outputs": [
    {
     "data": {
      "text/plain": [
       "1    179\n",
       "0    112\n",
       "dtype: int64"
      ]
     },
     "execution_count": 11,
     "metadata": {},
     "output_type": "execute_result"
    }
   ],
   "source": [
    "X = pd.DataFrame(gum_pca)\n",
    "y = pd.Series(labels.diagnosis.values)\n",
    "X_train, X_test, y_train, y_test = train_test_split(X,\n",
    "                                                    y,\n",
    "                                                    test_size=.3,\n",
    "                                                    random_state=1234123)\n",
    "\n",
    "# look at the distrubution of labels in the train set\n",
    "pd.Series(y_train).value_counts()"
   ]
  },
  {
   "cell_type": "code",
   "execution_count": 35,
   "metadata": {},
   "outputs": [
    {
     "name": "stdout",
     "output_type": "stream",
     "text": [
      "(291, 65536)\n",
      "(291,)\n"
     ]
    }
   ],
   "source": [
    "print(X_train.shape)\n",
    "print(y_train.shape)"
   ]
  },
  {
   "cell_type": "code",
   "execution_count": 12,
   "metadata": {},
   "outputs": [
    {
     "name": "stdout",
     "output_type": "stream",
     "text": [
      "Epoch 1/5\n",
      "3/3 [==============================] - 60s 16s/step - loss: 1.6652 - accuracy: 0.5603 - val_loss: 1.2330 - val_accuracy: 0.5085\n",
      "Epoch 2/5\n",
      "3/3 [==============================] - 21s 6s/step - loss: 0.6854 - accuracy: 0.5259 - val_loss: 1.2300 - val_accuracy: 0.4915\n",
      "Epoch 3/5\n",
      "3/3 [==============================] - 14s 4s/step - loss: 0.5394 - accuracy: 0.5862 - val_loss: 1.7506 - val_accuracy: 0.5593\n",
      "Epoch 4/5\n",
      "3/3 [==============================] - 14s 5s/step - loss: 0.5092 - accuracy: 0.6250 - val_loss: 2.3286 - val_accuracy: 0.5932\n",
      "Epoch 5/5\n",
      "3/3 [==============================] - 13s 4s/step - loss: 0.4986 - accuracy: 0.6983 - val_loss: 2.8629 - val_accuracy: 0.5932\n",
      "4/4 [==============================] - 2s 419ms/step - loss: 2.1702 - accuracy: 0.5714\n",
      "Test accuracy: 0.5714285969734192\n",
      "4/4 [==============================] - 4s 430ms/step\n",
      "[1, 1, 1, 1, 1, 1, 1, 1, 1, 1, 1, 1, 1, 1, 1, 1, 1, 1, 1, 1, 0, 1, 1, 1, 1, 1, 1, 1, 1, 1, 1, 1, 1, 1, 1, 1, 1, 1, 1, 1, 1, 1, 1, 1, 1, 1, 1, 1, 1, 1, 1, 1, 1, 1, 1, 1, 1, 1, 1, 1, 1, 1, 0, 1, 1, 1, 0, 1, 1, 0, 1, 1, 1, 1, 1, 1, 1, 1, 1, 1, 1, 1, 1, 1, 1, 1, 1, 1, 1, 1, 1, 1, 1, 1, 1, 1, 1, 1, 1, 1, 1, 1, 1, 1, 1, 1, 1, 1, 0, 1, 1, 1, 1, 1, 1, 1, 1, 1, 1, 1, 1, 1, 1, 1, 1, 1]\n",
      "              precision    recall  f1-score   support\n",
      "\n",
      "           0       0.20      0.02      0.04        51\n",
      "           1       0.59      0.95      0.72        75\n",
      "\n",
      "    accuracy                           0.57       126\n",
      "   macro avg       0.39      0.48      0.38       126\n",
      "weighted avg       0.43      0.57      0.45       126\n",
      "\n",
      "0.5714285714285714\n",
      "[[ 1 50]\n",
      " [ 4 71]]\n"
     ]
    }
   ],
   "source": [
    "from keras.models import Sequential\n",
    "from keras.layers import Conv2D, MaxPooling2D, Flatten, Dense\n",
    "from keras import regularizers\n",
    "from sklearn.metrics import accuracy_score\n",
    "from sklearn.metrics import confusion_matrix, classification_report\n",
    "# Reshape the input data into 2D images\n",
    "\n",
    "arr = np.array(X_train).reshape(X_train.shape[0], -1)\n",
    "X_train = np.array(X_train).reshape((X_train.shape[0], 256, 256, 1))\n",
    "\n",
    "# Define the model architecture\n",
    "model = Sequential()\n",
    "model.add(Conv2D(32, (3, 3), activation='relu', input_shape=(256, 256, 1)))\n",
    "model.add(MaxPooling2D((2, 2)))\n",
    "model.add(Conv2D(128, (3, 3), activation='relu'))\n",
    "model.add(MaxPooling2D((2, 2)))\n",
    "model.add(Flatten())\n",
    "model.add(Dense(64, activation='relu'))\n",
    "model.add(Dense(1, activation='sigmoid'))\n",
    "\n",
    "# Compile the model\n",
    "model.compile(loss='binary_crossentropy', optimizer='adam', metrics=['accuracy'])\n",
    "\n",
    "# Train the model\n",
    "model.fit(X_train, y_train, epochs=5, batch_size=97, validation_split=0.2)\n",
    "\n",
    "# Evaluate the model on the test set\n",
    "X_test = np.array(X_test).reshape((X_test.shape[0], 256, 256, 1))\n",
    "test_loss, test_acc = model.evaluate(X_test, y_test)\n",
    "print(\"Test accuracy:\", test_acc)\n",
    "predictions = model.predict(X_test)\n",
    "predictions=[0 if val <0.5 else 1 for val in predictions]\n",
    "print(predictions)\n",
    "print(classification_report(y_test, predictions))\n",
    "print(accuracy_score(y_test, predictions))\n",
    "print(confusion_matrix(y_test, predictions))"
   ]
  },
  {
   "cell_type": "code",
   "execution_count": 23,
   "metadata": {
    "scrolled": false
   },
   "outputs": [
    {
     "data": {
      "text/plain": [
       "DecisionTreeClassifier(ccp_alpha=0.0, class_weight=None, criterion='gini',\n",
       "                       max_depth=None, max_features=None, max_leaf_nodes=None,\n",
       "                       min_impurity_decrease=0.0, min_impurity_split=None,\n",
       "                       min_samples_leaf=1, min_samples_split=2,\n",
       "                       min_weight_fraction_leaf=0.0, presort='deprecated',\n",
       "                       random_state=None, splitter='best')"
      ]
     },
     "execution_count": 23,
     "metadata": {},
     "output_type": "execute_result"
    }
   ],
   "source": [
    "from sklearn.tree import DecisionTreeClassifier\n",
    "dt = DecisionTreeClassifier()\n",
    "dt.fit(X_train,y_train)"
   ]
  },
  {
   "cell_type": "code",
   "execution_count": 24,
   "metadata": {},
   "outputs": [
    {
     "name": "stdout",
     "output_type": "stream",
     "text": [
      "Model accuracy is:  0.5873015873015873\n"
     ]
    }
   ],
   "source": [
    "y_pred = dt.predict(X_test)\n",
    "\n",
    "# calculate accuracy\n",
    "accuracy = accuracy_score(y_test, y_pred)\n",
    "print('Model accuracy is: ', accuracy)"
   ]
  },
  {
   "cell_type": "code",
   "execution_count": 33,
   "metadata": {},
   "outputs": [
    {
     "name": "stdout",
     "output_type": "stream",
     "text": [
      "Model accuracy is:  0.5873015873015873\n"
     ]
    }
   ],
   "source": [
    "print('Model accuracy is: ', dt.score(X_test,y_test))"
   ]
  },
  {
   "cell_type": "code",
   "execution_count": 25,
   "metadata": {},
   "outputs": [
    {
     "data": {
      "text/plain": [
       "RandomForestClassifier(bootstrap=True, ccp_alpha=0.0, class_weight=None,\n",
       "                       criterion='gini', max_depth=None, max_features='auto',\n",
       "                       max_leaf_nodes=None, max_samples=None,\n",
       "                       min_impurity_decrease=0.0, min_impurity_split=None,\n",
       "                       min_samples_leaf=1, min_samples_split=2,\n",
       "                       min_weight_fraction_leaf=0.0, n_estimators=20,\n",
       "                       n_jobs=None, oob_score=False, random_state=None,\n",
       "                       verbose=0, warm_start=False)"
      ]
     },
     "execution_count": 25,
     "metadata": {},
     "output_type": "execute_result"
    }
   ],
   "source": [
    "from sklearn. ensemble import RandomForestClassifier\n",
    "rf = RandomForestClassifier(n_estimators=20)\n",
    "rf.fit(X_train,y_train)"
   ]
  },
  {
   "cell_type": "code",
   "execution_count": 26,
   "metadata": {},
   "outputs": [
    {
     "data": {
      "text/plain": [
       "0.5793650793650794"
      ]
     },
     "execution_count": 26,
     "metadata": {},
     "output_type": "execute_result"
    }
   ],
   "source": [
    "y_pred = rf.predict(X_test)\n",
    "rf.score(X_test,y_test)"
   ]
  },
  {
   "cell_type": "code",
   "execution_count": 12,
   "metadata": {},
   "outputs": [
    {
     "data": {
      "text/plain": [
       "SVC(C=1.0, break_ties=False, cache_size=200, class_weight=None, coef0=0.0,\n",
       "    decision_function_shape='ovr', degree=3, gamma='scale', kernel='linear',\n",
       "    max_iter=-1, probability=True, random_state=42, shrinking=True, tol=0.001,\n",
       "    verbose=False)"
      ]
     },
     "execution_count": 12,
     "metadata": {},
     "output_type": "execute_result"
    }
   ],
   "source": [
    "# define support vector classifier\n",
    "svm = SVC(kernel='linear', probability=True, random_state=42)\n",
    "\n",
    "# fit model\n",
    "svm.fit(X_train, y_train)"
   ]
  },
  {
   "cell_type": "code",
   "execution_count": 13,
   "metadata": {},
   "outputs": [
    {
     "name": "stdout",
     "output_type": "stream",
     "text": [
      "Model accuracy is:  0.5714285714285714\n"
     ]
    }
   ],
   "source": [
    "# generate predictions\n",
    "y_pred = svm.predict(X_test)\n",
    "\n",
    "# calculate accuracy\n",
    "accuracy = accuracy_score(y_test, y_pred)\n",
    "print('Model accuracy is: ', accuracy)"
   ]
  },
  {
   "cell_type": "code",
   "execution_count": 18,
   "metadata": {},
   "outputs": [
    {
     "name": "stdout",
     "output_type": "stream",
     "text": [
      "Epoch 1/10\n",
      "10/10 [==============================] - 1s 15ms/step - loss: 0.8499 - accuracy: 0.5326\n",
      "Epoch 2/10\n",
      "10/10 [==============================] - 0s 13ms/step - loss: 0.8192 - accuracy: 0.5670\n",
      "Epoch 3/10\n",
      "10/10 [==============================] - 0s 12ms/step - loss: 0.8178 - accuracy: 0.5670\n",
      "Epoch 4/10\n",
      "10/10 [==============================] - 0s 11ms/step - loss: 0.8124 - accuracy: 0.5739\n",
      "Epoch 5/10\n",
      "10/10 [==============================] - 0s 13ms/step - loss: 0.8058 - accuracy: 0.5773\n",
      "Epoch 6/10\n",
      "10/10 [==============================] - 0s 13ms/step - loss: 0.7972 - accuracy: 0.5876\n",
      "Epoch 7/10\n",
      "10/10 [==============================] - 0s 13ms/step - loss: 0.7942 - accuracy: 0.5911\n",
      "Epoch 8/10\n",
      "10/10 [==============================] - 0s 14ms/step - loss: 0.7852 - accuracy: 0.6014\n",
      "Epoch 9/10\n",
      "10/10 [==============================] - 0s 11ms/step - loss: 0.7808 - accuracy: 0.6048\n",
      "Epoch 10/10\n",
      "10/10 [==============================] - 0s 9ms/step - loss: 0.7780 - accuracy: 0.6082\n",
      "4/4 [==============================] - 0s 13ms/step\n",
      "              precision    recall  f1-score   support\n",
      "\n",
      "           0       0.32      0.16      0.21        51\n",
      "           1       0.57      0.77      0.66        75\n",
      "\n",
      "    accuracy                           0.52       126\n",
      "   macro avg       0.45      0.47      0.43       126\n",
      "weighted avg       0.47      0.52      0.48       126\n",
      "\n",
      "0.5238095238095238\n",
      "[[ 8 43]\n",
      " [17 58]]\n"
     ]
    }
   ],
   "source": [
    "import numpy as np\n",
    "from keras.models import Sequential\n",
    "from keras.layers import Dense\n",
    "from keras.optimizers import SGD\n",
    "import tensorflow as tf\n",
    "from sklearn.metrics import accuracy_score\n",
    "from sklearn.metrics import confusion_matrix\n",
    "#input_dim=X_train.shape[1]\n",
    "\n",
    "model = tf.keras.models.Sequential([\n",
    "    tf.keras.layers.Dense(1, input_dim=len(X_train.columns), activation='sigmoid',\n",
    "                          kernel_constraint=tf.keras.constraints.UnitNorm())\n",
    "])\n",
    "\n",
    "# Compile the model with hinge loss and no metrics\n",
    "model.compile(loss='hinge', optimizer='adam', metrics=['accuracy'])\n",
    "\n",
    "# Fit the model to the training data\n",
    "history=model.fit(X_train, y_train, epochs=53   , batch_size=32)\n",
    "\n",
    "predictions = model.predict(X_test)\n",
    "#print(predictions, \" predictions\")\n",
    "predictions=[0 if val <0.5 else 1 for val in predictions]\n",
    "\n",
    "from sklearn.metrics import classification_report\n",
    " \n",
    "print(classification_report(y_test, predictions))\n",
    "print(accuracy_score(y_test, predictions, \" accuracy score\"))\n",
    "print(confusion_matrix(y_test, predictions))\n",
    "\n",
    "# Save the model to disk\n",
    "#model.save('svm_model1.h5')"
   ]
  },
  {
   "cell_type": "code",
   "execution_count": 38,
   "metadata": {},
   "outputs": [],
   "source": [
    "#img4 = cv2.imread(\"./dataset/train_img/raw_img/intragingi2.jpg\")\n",
    "#img3 = cv2.resize(img4, (256,256))\n",
    "#cv2.imwrite('./dataset/train_img/raw_img/intragingi2.jpg',img3)\n",
    "img2 = cv2.imread(\"./dataset/train_img/raw_img/intragingi.jpg\")\n",
    "img3 = cv2.resize(img2, (256,256))\n",
    "cv2.imwrite('./dataset/train_img/raw_img/intragingi.jpg',img3)\n",
    "img4 = cv2.imread(\"./dataset/train_img/raw_img/intragingi.jpg\")\n",
    "ORANGE_MIN = np.array([5, 145, 94],np.uint8)\n",
    "ORANGE_MAX = np.array([8, 255, 255],np.uint8)\n",
    "#img=cv2.rotate(img2, cv2.ROTATE_90_COUNTERCLOCKWISE)\n",
    "hsv_img = cv2.cvtColor(img4,cv2.COLOR_BGR2HSV)\n",
    "frame_threshed = cv2.inRange(hsv_img, ORANGE_MIN, ORANGE_MAX)\n",
    "kernel = np.ones((10, 10), np.uint8)\n",
    "closing = cv2.morphologyEx(frame_threshed, cv2.MORPH_CLOSE, kernel, iterations=1)\n",
    "opening = cv2.morphologyEx(closing, cv2.MORPH_OPEN, kernel)\n",
    "color_features = opening.flatten()\n",
    "flat_features = np.hstack(color_features)\n",
    "ok=flat_features.reshape(1, -1)\n",
    "\n"
   ]
  },
  {
   "cell_type": "code",
   "execution_count": 39,
   "metadata": {},
   "outputs": [
    {
     "name": "stdout",
     "output_type": "stream",
     "text": [
      "[[0 0 0 ... 0 0 0]]\n",
      "1/1 [==============================] - 0s 59ms/step\n",
      "1.0  predictions\n",
      "[1]  predictions1\n"
     ]
    }
   ],
   "source": [
    "print(ok)\n",
    "predictions1 = model.predict(ok)\n",
    "print(predictions1[0][0], \" predictions\")\n",
    "predictions1=[0 if val <0.5 else 1 for val in predictions1]\n",
    "#if predictions1[0][0]<0.5:\n",
    "    #print('0')\n",
    "#else:\n",
    "    #print('1')\n",
    "print(predictions1, \" predictions1\")"
   ]
  },
  {
   "cell_type": "code",
   "execution_count": 34,
   "metadata": {},
   "outputs": [
    {
     "name": "stdout",
     "output_type": "stream",
     "text": [
      "INFO:tensorflow:Assets written to: C:\\Users\\Ben\\AppData\\Local\\Temp\\tmpiqq6xki_\\assets\n"
     ]
    }
   ],
   "source": [
    "import tensorflow as tf\n",
    "from keras.models import load_model\n",
    "model = load_model('svm_model1.h5')\n",
    "\n",
    "# Convert the model to a TensorFlow Lite model\n",
    "converter = tf.lite.TFLiteConverter.from_keras_model(model)\n",
    "tflite_model = converter.convert()\n",
    "\n",
    "# Save the TensorFlow Lite model to disk\n",
    "with open('svm_model.tflite', 'wb') as f:\n",
    "    f.write(tflite_model)\n",
    "\n"
   ]
  },
  {
   "cell_type": "code",
   "execution_count": 43,
   "metadata": {},
   "outputs": [
    {
     "name": "stdout",
     "output_type": "stream",
     "text": [
      "0\n"
     ]
    }
   ],
   "source": [
    "import cv2\n",
    "# Load the TensorFlow Lite model\n",
    "interpreter = tf.lite.Interpreter(model_path='svm_model.tflite')\n",
    "interpreter.allocate_tensors()\n",
    "\n",
    "img2 = cv2.imread(\"./dataset/train_img/raw_img/intragingi2.jpg\")\n",
    "img3 = cv2.resize(img2, (256,256))\n",
    "cv2.imwrite('./dataset/train_img/raw_img/intragingi2.jpg',img3)\n",
    "img4 = cv2.imread(\"./dataset/train_img/raw_img/intragingi2.jpg\")\n",
    "ORANGE_MIN = np.array([5, 145, 94],np.uint8)\n",
    "ORANGE_MAX = np.array([8, 255, 255],np.uint8)\n",
    "#img=cv2.rotate(img3, cv2.ROTATE_90_COUNTERCLOCKWISE)\n",
    "hsv_img = cv2.cvtColor(img4,cv2.COLOR_BGR2HSV)\n",
    "\n",
    "\n",
    "\n",
    "frame_threshed = cv2.inRange(hsv_img, ORANGE_MIN, ORANGE_MAX)\n",
    "\n",
    "\n",
    "\n",
    "kernel = np.ones((10, 10), np.uint8)\n",
    "closing = cv2.morphologyEx(frame_threshed, cv2.MORPH_CLOSE, kernel, iterations=1)\n",
    "opening = cv2.morphologyEx(closing, cv2.MORPH_OPEN, kernel)\n",
    "color_features = opening.flatten()\n",
    "flat_features = np.hstack(color_features)\n",
    "ok=flat_features.reshape(1, -1)\n",
    "\n",
    "# Get the input and output tensors\n",
    "input_details = interpreter.get_input_details()\n",
    "output_details = interpreter.get_output_details()\n",
    "\n",
    "#print(output_details[0])\n",
    "#print(ok.astype(np.float32))\n",
    "\n",
    "# Define a new input for prediction\n",
    "\n",
    "\n",
    "# Set the input tensor\n",
    "interpreter.set_tensor(input_details[0]['index'], ok.astype(np.float32))\n",
    "\n",
    "# Run the inference\n",
    "interpreter.invoke()\n",
    "\n",
    "# Get the output tensor and print the prediction\n",
    "output_data = interpreter.get_tensor(output_details[0]['index'])\n",
    "if output_data<0.5:\n",
    "    print('0')\n",
    "else:\n",
    "    print('1')\n",
    "#print(output_data)\n",
    "\n",
    "# Print the predicted classes\n",
    "#predicted_classes = np.argmax(output_data, axis=1)\n",
    "#print(predicted_classes)"
   ]
  }
 ],
 "metadata": {
  "kernelspec": {
   "display_name": "Python 3 (ipykernel)",
   "language": "python",
   "name": "python3"
  },
  "language_info": {
   "codemirror_mode": {
    "name": "ipython",
    "version": 3
   },
   "file_extension": ".py",
   "mimetype": "text/x-python",
   "name": "python",
   "nbconvert_exporter": "python",
   "pygments_lexer": "ipython3",
   "version": "3.9.13"
  },
  "vscode": {
   "interpreter": {
    "hash": "cb4361252e18a8a38bcf56925350a1d624ffc42d4be43773c4396c03219dd5f7"
   }
  }
 },
 "nbformat": 4,
 "nbformat_minor": 2
}
